{
  "nbformat": 4,
  "nbformat_minor": 0,
  "metadata": {
    "colab": {
      "name": "Encuesta.ipynb",
      "provenance": [],
      "collapsed_sections": [],
      "include_colab_link": true
    },
    "kernelspec": {
      "name": "python3",
      "display_name": "Python 3"
    },
    "language_info": {
      "name": "python"
    }
  },
  "cells": [
    {
      "cell_type": "markdown",
      "metadata": {
        "id": "view-in-github",
        "colab_type": "text"
      },
      "source": [
        "<a href=\"https://colab.research.google.com/github/jcval94/Proyecto_Modulo2/blob/main/Encuesta.ipynb\" target=\"_parent\"><img src=\"https://colab.research.google.com/assets/colab-badge.svg\" alt=\"Open In Colab\"/></a>"
      ]
    },
    {
      "cell_type": "code",
      "source": [
        "import pandas as pd\n",
        "import numpy as np"
      ],
      "metadata": {
        "id": "305pPNvIFwVI"
      },
      "execution_count": 1,
      "outputs": []
    },
    {
      "cell_type": "code",
      "execution_count": 2,
      "metadata": {
        "id": "Zr_WxmtkDdwz"
      },
      "outputs": [],
      "source": [
        "#Funciones para conectarse a Google Drive\n",
        "from pydrive.auth import GoogleAuth\n",
        "from pydrive.drive import GoogleDrive\n",
        "from google.colab import auth\n",
        "from oauth2client.client import GoogleCredentials\n",
        "import gspread\n",
        "from oauth2client.client import GoogleCredentials\n",
        "import gspread_dataframe as gd\n",
        "from google.auth import default"
      ]
    },
    {
      "cell_type": "code",
      "source": [
        "from sklearn.cluster import KMeans\n",
        "# Gráficos\n",
        "# ==============================================================================\n",
        "import matplotlib.pyplot as plt\n",
        "import matplotlib.font_manager\n",
        "from matplotlib import style\n",
        "import seaborn as sns\n",
        "style.use('ggplot') or plt.style.use('ggplot')\n",
        "\n",
        "# Preprocesado y modelado\n",
        "# ==============================================================================\n",
        "from sklearn.decomposition import PCA\n",
        "from sklearn.pipeline import make_pipeline\n",
        "from sklearn.preprocessing import StandardScaler\n",
        "from sklearn.preprocessing import scale"
      ],
      "metadata": {
        "id": "ilmhYEFrVZW8"
      },
      "execution_count": 3,
      "outputs": []
    },
    {
      "cell_type": "code",
      "source": [
        "import pickle as pk\n",
        "import zipfile"
      ],
      "metadata": {
        "id": "v_MI9IDhuWfy"
      },
      "execution_count": 4,
      "outputs": []
    },
    {
      "cell_type": "code",
      "source": [
        "auth.authenticate_user()\n",
        "gauth = GoogleAuth()\n",
        "gauth.credentials = GoogleCredentials.get_application_default()\n",
        "drive = GoogleDrive(gauth)"
      ],
      "metadata": {
        "id": "bBbTkCUkDlVC"
      },
      "execution_count": 5,
      "outputs": []
    },
    {
      "cell_type": "code",
      "source": [
        "creds, _ = default()\n",
        "gc = gspread.authorize(creds)\n",
        "pd.options.mode.chained_assignment = None"
      ],
      "metadata": {
        "id": "MJA4Ef2ACm9T"
      },
      "execution_count": 6,
      "outputs": []
    },
    {
      "cell_type": "code",
      "source": [
        "# Cargar modelos pre-entrenados\n",
        "\n",
        "url = 'https://drive.google.com/file/d/1ofGl8U20ObpNef1hTdFOzxaQIHcfSUX4/view?usp=sharing'\n",
        "id_ = url.split('/')[-2]\n",
        "\n",
        "# Toco la puerta para ver si hay alguien\n",
        "links = drive.CreateFile({'id':id_})\n",
        "\n",
        "# Si hay alguien (un zip) lo descomprimo para ver su interior\n",
        "links.GetContentFile('folder.zip',mimetype=links['mimeType'])\n",
        "with zipfile.ZipFile('folder.zip',\"r\") as zip_ref:\n",
        "  zip_ref.extractall()"
      ],
      "metadata": {
        "id": "qgeF1IXG8KAb"
      },
      "execution_count": 7,
      "outputs": []
    },
    {
      "cell_type": "code",
      "source": [
        "# Cargar información de encuestas completa\n",
        "cuaderno = 'https://docs.google.com/spreadsheets/d/1B5nKjbt9Pw_vFjYU3rufyUACpPQDkO6DPmNDNUmDRso/edit?usp=sharing'\n",
        "  \n",
        "Estudiantes = [\"Respuestas de formulario 1\"]\n",
        "\n",
        "ws = gc.open('Información de contacto (Respuestas)')\n",
        "\n",
        "# print('Calificando...')\n",
        "for estudiante in Estudiantes:\n",
        "  existing_ = gd.get_as_dataframe(ws.worksheet(estudiante))\n",
        "  existing = existing_.copy()"
      ],
      "metadata": {
        "id": "Nej7FANJD2Lj",
        "colab": {
          "base_uri": "https://localhost:8080/",
          "height": 241
        },
        "outputId": "62f736cf-911b-47dc-9e64-3bddb9131684"
      },
      "execution_count": null,
      "outputs": [
        {
          "output_type": "error",
          "ename": "NameError",
          "evalue": "ignored",
          "traceback": [
            "\u001b[0;31m---------------------------------------------------------------------------\u001b[0m",
            "\u001b[0;31mNameError\u001b[0m                                 Traceback (most recent call last)",
            "\u001b[0;32m<ipython-input-29-dc1c5bc91b2f>\u001b[0m in \u001b[0;36m<module>\u001b[0;34m()\u001b[0m\n\u001b[1;32m      4\u001b[0m \u001b[0mEstudiantes\u001b[0m \u001b[0;34m=\u001b[0m \u001b[0;34m[\u001b[0m\u001b[0;34m\"Respuestas de formulario 1\"\u001b[0m\u001b[0;34m]\u001b[0m\u001b[0;34m\u001b[0m\u001b[0;34m\u001b[0m\u001b[0m\n\u001b[1;32m      5\u001b[0m \u001b[0;34m\u001b[0m\u001b[0m\n\u001b[0;32m----> 6\u001b[0;31m \u001b[0mws\u001b[0m \u001b[0;34m=\u001b[0m \u001b[0mgc\u001b[0m\u001b[0;34m.\u001b[0m\u001b[0mopen\u001b[0m\u001b[0;34m(\u001b[0m\u001b[0;34m'Información de contacto (Respuestas)'\u001b[0m\u001b[0;34m)\u001b[0m\u001b[0;34m\u001b[0m\u001b[0;34m\u001b[0m\u001b[0m\n\u001b[0m\u001b[1;32m      7\u001b[0m \u001b[0;34m\u001b[0m\u001b[0m\n\u001b[1;32m      8\u001b[0m \u001b[0;31m# print('Calificando...')\u001b[0m\u001b[0;34m\u001b[0m\u001b[0;34m\u001b[0m\u001b[0;34m\u001b[0m\u001b[0m\n",
            "\u001b[0;31mNameError\u001b[0m: name 'gc' is not defined"
          ]
        }
      ]
    },
    {
      "cell_type": "code",
      "source": [
        "#Elimino filas y columnas que estén completamente vacías\n",
        "existing.dropna(how='all', inplace=True)\n",
        "existing.dropna(how='all', axis='columns', inplace=True)"
      ],
      "metadata": {
        "id": "3EYPDqEtF77t"
      },
      "execution_count": null,
      "outputs": []
    },
    {
      "cell_type": "code",
      "source": [
        "mucho_texto = 'Coloca la letra adecuada o letras (si piensas que está entre esos puntos), ¬F significa que se excluye la observación F y P significa percentil, (si no sabes F como dicen los chavos) '"
      ],
      "metadata": {
        "id": "WFsxvJMuIVFM"
      },
      "execution_count": null,
      "outputs": []
    },
    {
      "cell_type": "code",
      "source": [
        "existing.columns = [x.replace(mucho_texto,'') for x in existing.columns]\n",
        "\n",
        "id_cols = ['Marca temporal', 'Nombre', 'Correo electrónico','Contraseña']\n",
        "\n",
        "progra_cols = ['¿De qué lenguajes de programación has escuchado?','Puedo imprimir \"Hola mundo\" en los siguientes lenguajes:']\n",
        "gustos_cols = ['He visto los siguientes shows',\n",
        "       'Tengo una cuenta activa en las siguientes redes:',\n",
        "       'En general qué consideras más importante']\n",
        "\n",
        "mate_cols = ['Sin hacer trampa, cuánto es',\n",
        "       '¿Si tengo 110 manzanas, le di X a mi primo y ahora si resto las mías menos las suyas me da 100 cuántas manzanas le di?',\n",
        "       'a y b son números enteros y sabemos qué']\n",
        "\n",
        "estad_cols = [x for x in existing.columns if x not in id_cols+progra_cols+gustos_cols+mate_cols]"
      ],
      "metadata": {
        "id": "ZFJqYqN2HV52"
      },
      "execution_count": null,
      "outputs": []
    },
    {
      "cell_type": "code",
      "source": [
        "existing_program1 = existing[progra_cols[0]].str.get_dummies(sep=',').add_prefix('know_')\n",
        "existing_program1['no_leng_k'] = existing_program1.sum(axis=1)\n",
        "existing_program2 = existing[progra_cols[1]].str.get_dummies(sep=',').add_prefix('print_')\n",
        "existing_program2['no_leng_p'] = existing_program2.sum(axis=1)\n",
        "\n",
        "existing_program = pd.concat([existing_program1,existing_program2], axis=1)"
      ],
      "metadata": {
        "id": "C-t479IsIRYo"
      },
      "execution_count": null,
      "outputs": []
    },
    {
      "cell_type": "code",
      "source": [
        "gpo = existing[gustos_cols[0]].str.get_dummies(sep=',').add_prefix('Show_')\n",
        "gpo['Show_tot'] = gpo.sum(axis=1)\n",
        "gpo1 = existing[gustos_cols[1]].str.get_dummies(sep=',').add_prefix('Red_')\n",
        "gpo1['Red_tot'] = gpo.sum(axis=1)\n",
        "gpo2 = existing[gustos_cols[2]].str.get_dummies(sep=',').add_prefix('Gpo_')\n",
        "\n",
        "gpo = pd.concat([gpo,gpo1], axis =1)\n",
        "gpo = pd.concat([gpo,gpo2], axis =1)"
      ],
      "metadata": {
        "id": "CL7H47DPbzsT"
      },
      "execution_count": null,
      "outputs": []
    },
    {
      "cell_type": "code",
      "source": [
        "mate = existing[mate_cols]\n",
        "mate.loc[:,'expo_S'] = (mate[mate_cols[0]]==-81).astype(int)\n",
        "mate.loc[:,'expo_no_sabe'] = (mate[mate_cols[0]]=='Hmmmmm...').astype(int)\n",
        "mate.loc[:,'expo_N'] = (~mate[mate_cols[0]].isin([-81,'Hmmmmm...'])).astype(int)\n",
        "\n",
        "mate.loc[:,'dif_S'] = (existing[mate_cols[1]]==5).astype(int)\n",
        "mate.loc[:,'dif_no_sabe'] = (existing[mate_cols[1]]=='Ehhhhh... Ehhhh...').astype(int)\n",
        "mate.loc[:,'dif_N'] = (~existing[mate_cols[1]].isin([5,'Ehhhhh... Ehhhh...'])).astype(int)\n",
        "\n",
        "mate.loc[:,'mayor_S'] = (existing[mate_cols[2]]=='No se puede determinar con la información dada').astype(int)\n",
        "mate.loc[:,'mayor_no_sabe'] = (existing[mate_cols[2]]=='Un gatito').astype(int)\n",
        "mate.loc[:,'mayor_N'] = (~existing[mate_cols[2]].isin(['No se puede determinar con la información dada','Un gatito'])).astype(int)"
      ],
      "metadata": {
        "id": "rDk8w72ycz2K"
      },
      "execution_count": null,
      "outputs": []
    },
    {
      "cell_type": "code",
      "source": [
        "mate['calif_m']= [a+b+c for a, b, c in mate[['expo_S','dif_S','mayor_S']].values]"
      ],
      "metadata": {
        "id": "TORInuFa5UaY"
      },
      "execution_count": null,
      "outputs": []
    },
    {
      "cell_type": "code",
      "source": [
        "mate_df = mate[[col for col in mate.columns if col not in mate_cols]]"
      ],
      "metadata": {
        "id": "1RJlz6D9SPUW"
      },
      "execution_count": null,
      "outputs": []
    },
    {
      "cell_type": "code",
      "source": [
        "stat = existing[estad_cols[1:-1]]\n",
        "\n",
        "resp = ['E','D','D','D','D','D','C','C','C','C']\n",
        "nms_s = []\n",
        "for key, res in zip(estad_cols[1:-1], resp):\n",
        "  nam_col_s = 'S_'+key.replace(']','').replace('[','')\n",
        "  stat[nam_col_s] = stat[key].apply(lambda x: res in str(x).split(',')).astype(int)\n",
        "  nms_s.append(nam_col_s)\n",
        "\n",
        "stat['calif_s'] = stat[nms_s].sum(axis=1)\n",
        "\n",
        "# Deben ser iguales, entre más cerca del 1 mejor\n",
        "stat['C_C1'] = (stat['[Cuantil 1 (¬F)]']==stat['[Cuantil 1]']).astype(int)\n",
        "# Deben ser distintos, entre más cerca del 1 mejor\n",
        "stat['C_Me'] = (stat['[Media (¬F)]']!=stat['[Media]']).astype(int)\n",
        "# Deben ser iguales, entre más cerca del 1 mejor\n",
        "stat['C_Md'] = (stat['[Mediana (¬F)]']==stat['[Mediana]']).astype(int)\n",
        "# Deben ser iguales, entre más cerca del 1 mejor\n",
        "stat['C_Mo'] = (stat['[Moda (¬F)]']==stat['[Moda]']).astype(int)\n",
        "# Deben ser iguales, entre más cerca del 1 mejor\n",
        "stat['C_Pe'] = (stat['[P 26.22 (¬F)]']==stat['[P 26.22]']).astype(int)\n",
        "\n",
        "# Deben ser distintos, entre más cerca del 1 mejor\n",
        "stat['C_PC'] = (stat['C_Pe']==stat['C_C1']).astype(int)\n",
        "# Deben ser distintos, entre más cerca del 1 mejor\n",
        "stat['C_ALL'] = (existing[estad_cols[1:-2]].nunique(axis=1) != 1).astype(int)\n",
        "\n",
        "stat = stat[[col for col in stat.columns if col not in estad_cols[1:-1]]]\n",
        "\n",
        "stat.loc[:,'entiende_grafica'] = (existing[estad_cols[0]] == 'Sé lo que estoy viendo').astype(int)"
      ],
      "metadata": {
        "id": "0wj6aCXHGFIV"
      },
      "execution_count": null,
      "outputs": []
    },
    {
      "cell_type": "code",
      "source": [
        "# dfs = stat, mate, gpo, existing_program"
      ],
      "metadata": {
        "id": "UYXBlytEplza"
      },
      "execution_count": null,
      "outputs": []
    },
    {
      "cell_type": "code",
      "source": [
        "pca_pipe = make_pipeline(StandardScaler(), PCA())\n",
        "km_modelo = KMeans(init=\"k-means++\", n_clusters=3, n_init=3, random_state=324)"
      ],
      "metadata": {
        "id": "JdTIbJxEV8gZ"
      },
      "execution_count": null,
      "outputs": []
    },
    {
      "cell_type": "code",
      "source": [
        "def get_pca(stat_=stat, pca_model=pca_pipe, entrenar=False):\n",
        "  \n",
        "  if entrenar:\n",
        "    pca_model.fit(stat_)\n",
        "\n",
        "  modelo_pca = pca_model.named_steps['pca']\n",
        "  proyecciones = pca_model.transform(X=stat_)\n",
        "  proyecciones = pd.DataFrame(\n",
        "      proyecciones,\n",
        "      columns = ['PC'+str(n+1) for n in range(len(stat_.columns))],\n",
        "      index   = stat_.index\n",
        "  )\n",
        "\n",
        "  pcas_val = ['PC'+str(i+1) for i, v in enumerate(np.cumsum(modelo_pca.explained_variance_ratio_)<.9) if v]\n",
        "  PCA_df = proyecciones[pcas_val]\n",
        "\n",
        "  return PCA_df, pca_model"
      ],
      "metadata": {
        "id": "MeLoKKRhW4ye"
      },
      "execution_count": null,
      "outputs": []
    },
    {
      "cell_type": "code",
      "source": [
        "def get_kmn(stat_, PCA_df,plot_km, km_model, entrenar = False):\n",
        "  if entrenar:\n",
        "    db = km_model.fit(PCA_df)\n",
        "    stat_['cluster'] = db.labels_\n",
        "  else:\n",
        "    db = km_model\n",
        "    stat_['cluster'] = km_model.predict(PCA_df)\n",
        "\n",
        "  if plot_km:\n",
        "    colors = ['red', 'blue', 'purple', 'green','orange', 'black', 'gray']\n",
        "    nclus = np.unique(stat_['cluster'])\n",
        "    ax = sns.scatterplot(PCA_df['PC1'], PCA_df['PC2'], hue=stat_['cluster'], palette=colors[:len(nclus)], alpha=0.5, s=7)\n",
        "\n",
        "    means = np.vstack([PCA_df[stat_['cluster']== i].mean(axis=0) for i in range(len(nclus))])\n",
        "    ax = sns.scatterplot(means[:, 0], means[:, 1], hue=range(len(nclus)),\n",
        "                        palette=colors[:len(nclus)], s=20, ec='black', legend=False, ax=ax)\n",
        "    plt.show()\n",
        "\n",
        "  return stat_, db"
      ],
      "metadata": {
        "id": "BTMc3cqkoceM"
      },
      "execution_count": null,
      "outputs": []
    },
    {
      "cell_type": "markdown",
      "source": [
        "# Estadística"
      ],
      "metadata": {
        "id": "6rLAvr92276N"
      }
    },
    {
      "cell_type": "code",
      "source": [
        "# PCA_df_, pca_ajustado = get_pca(stat,pca_pipe,True)\n",
        "# stat, km_ajustado = get_kmn(stat, PCA_df_, True, km_modelo,True)\n",
        "\n",
        "# #Guardar modelo entrenado\n",
        "# pk.dump(pca_ajustado, open(\"pca_stat.pkl\",\"wb\"))\n",
        "# pk.dump(km_ajustado, open(\"km_stat.pkl\",\"wb\"))"
      ],
      "metadata": {
        "id": "Kdaal8GP6GY7"
      },
      "execution_count": null,
      "outputs": []
    },
    {
      "cell_type": "code",
      "source": [
        "#Leer modelo precargado\n",
        "pca_reload = pk.load(open(\"pca_stat.pkl\",'rb'))\n",
        "km_reload = pk.load(open(\"km_stat.pkl\",'rb'))\n",
        "\n",
        "PCA_df_, pca_ajustado = get_pca(stat,pca_reload)\n",
        "stat, km_ajustado = get_kmn(stat, PCA_df_, True,km_reload,False)"
      ],
      "metadata": {
        "id": "R1BarguA3kf_"
      },
      "execution_count": null,
      "outputs": []
    },
    {
      "cell_type": "code",
      "source": [
        "pd.pivot_table(stat, index='cluster')"
      ],
      "metadata": {
        "id": "Oqie7oU1pKqD"
      },
      "execution_count": null,
      "outputs": []
    },
    {
      "cell_type": "code",
      "source": [
        "existing['calif_s'] = stat['calif_s']\n",
        "existing['cluster_s'] = stat['cluster']\n",
        "existing.iloc[stat[stat['calif_s'] == max(stat['calif_s'])].index]"
      ],
      "metadata": {
        "id": "dn-Qki_pwfpi"
      },
      "execution_count": null,
      "outputs": []
    },
    {
      "cell_type": "markdown",
      "source": [
        "# Matemáticas"
      ],
      "metadata": {
        "id": "BcOu9x9n2_G0"
      }
    },
    {
      "cell_type": "code",
      "source": [
        "# PCA_df_, pca_ajustado = get_pca(mate_df,pca_pipe,True)\n",
        "# mate_df, km_ajustado = get_kmn(mate_df, PCA_df_, True, km_modelo,True)\n",
        "\n",
        "# #Guardar modelo entrenado\n",
        "# pk.dump(pca_ajustado, open(\"pca_mate.pkl\",\"wb\"))\n",
        "# pk.dump(km_ajustado, open(\"km_mate.pkl\",\"wb\"))"
      ],
      "metadata": {
        "id": "WTk9Nky7sr_k"
      },
      "execution_count": null,
      "outputs": []
    },
    {
      "cell_type": "code",
      "source": [
        "#Leer modelo precargado\n",
        "pca_reload = pk.load(open(\"pca_mate.pkl\",'rb'))\n",
        "km_reload = pk.load(open(\"km_mate.pkl\",'rb'))\n",
        "\n",
        "PCA_df_, pca_ajustado = get_pca(mate_df,pca_reload)\n",
        "mate_df, km_ajustado = get_kmn(mate_df, PCA_df_, True,km_reload,False)"
      ],
      "metadata": {
        "id": "nX2QcQcm5ELc"
      },
      "execution_count": null,
      "outputs": []
    },
    {
      "cell_type": "code",
      "source": [
        "pd.pivot_table(mate_df, index='cluster')"
      ],
      "metadata": {
        "id": "AgfA7vhG6XQU"
      },
      "execution_count": null,
      "outputs": []
    },
    {
      "cell_type": "code",
      "source": [
        "existing['calif_m'] = mate_df['calif_m']\n",
        "existing['cluster_m'] = mate_df['cluster']"
      ],
      "metadata": {
        "id": "rkEudSbF8U-9"
      },
      "execution_count": null,
      "outputs": []
    },
    {
      "cell_type": "code",
      "source": [
        "existing.iloc[mate_df[mate_df['calif_m'] == max(mate_df['calif_m'])].index]"
      ],
      "metadata": {
        "id": "ZxlbOfDM5KkN"
      },
      "execution_count": null,
      "outputs": []
    },
    {
      "cell_type": "markdown",
      "source": [
        "# Programación"
      ],
      "metadata": {
        "id": "-88hqVuZ8xKz"
      }
    },
    {
      "cell_type": "code",
      "source": [
        "sum_cols = existing_program.sum(axis=0)\n",
        "col_c = sum_cols[sum_cols>int(((len(existing_program.columns)-2)/2)*.1)-1]\n",
        "\n",
        "progra = existing_program[col_c.index]"
      ],
      "metadata": {
        "id": "ThaMBcoL8pew"
      },
      "execution_count": null,
      "outputs": []
    },
    {
      "cell_type": "code",
      "source": [
        "# PCA_df_, pca_ajustado = get_pca(progra,pca_pipe,True)\n",
        "# progra, km_ajustado = get_kmn(progra, PCA_df_, True, km_modelo,True)\n",
        "\n",
        "# #Guardar modelo entrenado\n",
        "# pk.dump(pca_ajustado, open(\"pca_progra.pkl\",\"wb\"))\n",
        "# pk.dump(km_ajustado, open(\"km_progra.pkl\",\"wb\"))"
      ],
      "metadata": {
        "id": "qZByudWD2o8Y"
      },
      "execution_count": null,
      "outputs": []
    },
    {
      "cell_type": "code",
      "source": [
        "#Leer modelo precargado\n",
        "pca_reload = pk.load(open(\"pca_progra.pkl\",'rb'))\n",
        "km_reload = pk.load(open(\"km_progra.pkl\",'rb'))\n",
        "\n",
        "PCA_df_, pca_ajustado = get_pca(progra,pca_reload)\n",
        "progra, km_ajustado = get_kmn(progra, PCA_df_, True,km_reload,False)"
      ],
      "metadata": {
        "id": "BmjHLt-h-g3k"
      },
      "execution_count": null,
      "outputs": []
    },
    {
      "cell_type": "code",
      "source": [
        "pd.pivot_table(progra, index='cluster')"
      ],
      "metadata": {
        "id": "KPaair8PWfDA"
      },
      "execution_count": null,
      "outputs": []
    },
    {
      "cell_type": "code",
      "source": [
        "existing['cluster_p'] = progra['cluster']"
      ],
      "metadata": {
        "id": "CwQ5ZxqCLIVZ"
      },
      "execution_count": null,
      "outputs": []
    },
    {
      "cell_type": "markdown",
      "source": [
        "# Gustos"
      ],
      "metadata": {
        "id": "TfEiDBJnXBLr"
      }
    },
    {
      "cell_type": "code",
      "source": [
        "sum_cols = gpo.sum(axis=0)\n",
        "col_c = sum_cols[sum_cols>int(((len(gpo.columns)-2)/2)*.1)-1]"
      ],
      "metadata": {
        "id": "hrhf5EL6XCcJ"
      },
      "execution_count": null,
      "outputs": []
    },
    {
      "cell_type": "code",
      "source": [
        "# gustos = gpo[[cl for cl in col_c.index if not (\"Red_\" in cl or \"Gpo_\" in cl)]]\n",
        "\n",
        "# PCA_df_ = get_pca(gustos)\n",
        "# gustos = get_kmn(gustos, PCA_df_, True)"
      ],
      "metadata": {
        "id": "LXBKTYLLXKfK"
      },
      "execution_count": null,
      "outputs": []
    },
    {
      "cell_type": "code",
      "source": [
        "calif_clus = existing[['calif_m','calif_s','cluster_m','cluster_s','cluster_p']]"
      ],
      "metadata": {
        "id": "6Dfh0jStEOGr"
      },
      "execution_count": null,
      "outputs": []
    },
    {
      "cell_type": "code",
      "source": [
        "ax = sns.jointplot(\n",
        "    data=calif_clus,\n",
        "    x=\"calif_m\", y=\"calif_s\", hue=\"cluster_m\",\n",
        "    # kind = 'hex',\n",
        "    color = 'g'\n",
        ")"
      ],
      "metadata": {
        "id": "XYC_E0sGJsD7"
      },
      "execution_count": null,
      "outputs": []
    },
    {
      "cell_type": "code",
      "source": [
        "ax = sns.jointplot(\n",
        "    data=calif_clus,\n",
        "    x=\"calif_m\", y=\"calif_s\", hue=\"cluster_s\",\n",
        "    # kind = 'hex',\n",
        "    color = 'g'\n",
        ")"
      ],
      "metadata": {
        "id": "WJLpvRuFH8pv"
      },
      "execution_count": null,
      "outputs": []
    },
    {
      "cell_type": "markdown",
      "source": [
        "# Los 3 vecinos más cercanos"
      ],
      "metadata": {
        "id": "fWk1KcdjbArK"
      }
    },
    {
      "cell_type": "code",
      "source": [
        "prof_cols = ['Marca temporal', 'Nombre', 'Correo electrónico', 'Contraseña']\n",
        "Agrupamiento = existing[['cluster_s', 'cluster_m', 'cluster_p']]"
      ],
      "metadata": {
        "id": "nGXit8hfbcYP"
      },
      "execution_count": null,
      "outputs": []
    },
    {
      "cell_type": "code",
      "source": [
        "km_modelo = KMeans(init=\"k-means++\", n_clusters=3, n_init=3, random_state=324)\n",
        "model = km_modelo.fit(Agrupamiento)\n",
        "Agrupamiento['CL'] = model.labels_\n",
        "existing['CL_conocimientos'] = model.labels_"
      ],
      "metadata": {
        "id": "tGaakVd4dsHp"
      },
      "execution_count": null,
      "outputs": []
    },
    {
      "cell_type": "code",
      "source": [
        "km_modelo = KMeans(init=\"k-means++\", n_clusters=3, n_init=3, random_state=324)\n",
        "model_gpo = km_modelo.fit(gpo)\n",
        "existing['CL_gustos'] = model_gpo.labels_"
      ],
      "metadata": {
        "id": "34a9aQBckxb5"
      },
      "execution_count": null,
      "outputs": []
    },
    {
      "cell_type": "code",
      "source": [
        "existing['No_leng'] = progra['no_leng_p']"
      ],
      "metadata": {
        "id": "rAZx6ZrKm1xY"
      },
      "execution_count": null,
      "outputs": []
    },
    {
      "cell_type": "code",
      "source": [
        "cols_a = ['Nombre', 'Correo electrónico','calif_m','calif_s','No_leng','CL_conocimientos','CL_gustos','En general qué consideras más importante']\n",
        "imprimir = existing[cols_a].sort_values(['CL_conocimientos','CL_gustos'])\n",
        "imprimir.to_csv('Resultados_Encuesta.csv',index=False)"
      ],
      "metadata": {
        "id": "ru-jP5-5bAIg"
      },
      "execution_count": null,
      "outputs": []
    },
    {
      "cell_type": "code",
      "source": [
        "imprimir"
      ],
      "metadata": {
        "id": "Mva_3RwCo4dq"
      },
      "execution_count": null,
      "outputs": []
    },
    {
      "cell_type": "markdown",
      "source": [
        "# Filtrar alumnos"
      ],
      "metadata": {
        "id": "UK2Zd8azL91i"
      }
    },
    {
      "cell_type": "code",
      "source": [
        "alumnos = '/content/G15-alumnos - Sheet1.csv'\n",
        "df_alm = pd.read_csv(alumnos, header=None)"
      ],
      "metadata": {
        "id": "bbCpT_OUx-yH"
      },
      "execution_count": null,
      "outputs": []
    },
    {
      "cell_type": "code",
      "source": [
        "!pip install unidecode"
      ],
      "metadata": {
        "id": "KPtckf0jygI1"
      },
      "execution_count": null,
      "outputs": []
    },
    {
      "cell_type": "code",
      "source": [
        "nombres = df_alm[0].apply(lambda x: unidecode.unidecode(str(x).lower()).split(' '))\n",
        "NBS = list(grup['Nombre'].apply(lambda x: unidecode.unidecode(str(x).lower())))"
      ],
      "metadata": {
        "id": "1YRSsAZBeu3M"
      },
      "execution_count": null,
      "outputs": []
    },
    {
      "cell_type": "code",
      "source": [
        "guardado = {}\n",
        "for nombre in NBS:\n",
        "  catal = {}\n",
        "  for i, n in enumerate(nombres):\n",
        "    conta = 0\n",
        "    for ap in n:\n",
        "      if ap in nombre:\n",
        "        conta +=1\n",
        "    catal[i] = conta\n",
        "\n",
        "  aplica = [(key, val) for key, val in catal.items() if val>0]\n",
        "  guardado[nombre] = aplica"
      ],
      "metadata": {
        "id": "Z472D_6JC2RP"
      },
      "execution_count": null,
      "outputs": []
    },
    {
      "cell_type": "code",
      "source": [
        "coincidencias = {key: v for key, v in guardado.items() if len(v)>0}"
      ],
      "metadata": {
        "id": "73uRH9BFzsSM"
      },
      "execution_count": null,
      "outputs": []
    },
    {
      "cell_type": "code",
      "source": [
        "registrado = []\n",
        "coin_100 = []\n",
        "for key, v in coincidencias.items():\n",
        "  nombres_full = len(key.split(' '))\n",
        "  coincidencia_100 = [a for a, b in v if b==nombres_full]\n",
        "  \n",
        "  if len(coincidencia_100)>0:\n",
        "    registrado.append([key, True])\n",
        "    coin_100.append(key)\n",
        "  else:\n",
        "    diferencias = [abs(b-nombres_full) for a, b in v]\n",
        "    # si al menos un registro es diferente\n",
        "    if not all([d==diferencias[0] for d in diferencias]):\n",
        "      carcano = v[argmin([abs(b-nombres_full) for a, b in v])][0]\n",
        "      registrado.append([key, nombres[carcano]])\n",
        "\n",
        "  "
      ],
      "metadata": {
        "id": "o23LIAlxGVhf"
      },
      "execution_count": null,
      "outputs": []
    },
    {
      "cell_type": "code",
      "source": [
        "coin_100"
      ],
      "metadata": {
        "id": "GTwurCvZNt6-",
        "outputId": "cd95ba32-b34e-4173-8541-26ce8a23ab66",
        "colab": {
          "base_uri": "https://localhost:8080/"
        }
      },
      "execution_count": null,
      "outputs": [
        {
          "output_type": "execute_result",
          "data": {
            "text/plain": [
              "['airin ishbel saavedra flores',\n",
              " 'cindy guadalupe rosendo castro',\n",
              " 'axel castro',\n",
              " 'kevin ruy roldan amador',\n",
              " 'giselle altagrassi herrera nunez',\n",
              " 'angel brito segura',\n",
              " 'maria azucena peredo aguilar',\n",
              " 'victor armando martinez cueto',\n",
              " 'jonatan andrade',\n",
              " 'marianne dennise rios payro',\n",
              " 'kareem gomez',\n",
              " 'jonathan castillo',\n",
              " 'jahir antonio rodriguez perales',\n",
              " 'citlali gil aguillon',\n",
              " 'aline yadira rodriguez becerra',\n",
              " 'vanessa',\n",
              " 'iker ofir mejia meza',\n",
              " 'alvaro',\n",
              " 'aridai gonzalez serralde',\n",
              " 'cristian axel cortes perez',\n",
              " 'arturo benjamin lopez becerril',\n",
              " 'dayana ailed jimenez copeno',\n",
              " 'estefania chavez huerta',\n",
              " 'evelyn solano',\n",
              " 'diego',\n",
              " 'miguel',\n",
              " 'flores alonso oscar david',\n",
              " 'giselle alejandra gonzalez lopez',\n",
              " 'hannia rojas',\n",
              " 'joseph fabrizio trejo salvador',\n",
              " 'clara fernanda fragoso islas',\n",
              " 'francisco',\n",
              " 'max ramirez',\n",
              " 'jesus ismael pineda hernandez',\n",
              " 'danyaell martinez ortiz',\n",
              " 'carolina honorato garcia',\n",
              " 'esmeralda nava',\n",
              " 'celeste tello',\n",
              " 'diana sandoval hernandez',\n",
              " 'harumi arrieta',\n",
              " 'claudia fernanda benitez escobar',\n",
              " 'ricardo garcia hernandez',\n",
              " 'jose angel ramirez',\n",
              " 'carlos vazquez',\n",
              " 'mary cedillo',\n",
              " 'alejandro de jesus romo rosales',\n",
              " 'alan rodriguez navarro',\n",
              " 'areil adrian gonzalez cazarez',\n",
              " 'carlos eduardo caravantes reynoso',\n",
              " 'enoc navarrete lazcano',\n",
              " 'luis alberto',\n",
              " 'eder gomez']"
            ]
          },
          "metadata": {},
          "execution_count": 241
        }
      ]
    },
    {
      "cell_type": "code",
      "source": [
        "ABC = grup['Nombre'].apply(lambda x: unidecode.unidecode(str(x).lower()))\n",
        "ABC_TF = ABC.isin([a for a, b in registrado])"
      ],
      "metadata": {
        "id": "rMekiK10Kvxd"
      },
      "execution_count": null,
      "outputs": []
    },
    {
      "cell_type": "markdown",
      "source": [
        "# Creación de grupos"
      ],
      "metadata": {
        "id": "ipYc8MWCDzxH"
      }
    },
    {
      "cell_type": "code",
      "source": [
        "# https://docs.google.com/spreadsheets/d/1f7SOx1I39lIxUvzGuX4XIF58g_3H7kfQeYDhew3H4vA/edit#gid=0"
      ],
      "metadata": {
        "id": "-R3hKlJneS66"
      },
      "execution_count": null,
      "outputs": []
    },
    {
      "cell_type": "code",
      "source": [
        "import pandas as pd\n",
        "from math import ceil\n",
        "from google.colab import files\n",
        "enc_path = '/content/drive/MyDrive/Resultados Encuesta.csv'"
      ],
      "metadata": {
        "id": "DNX47G1DD1hy"
      },
      "execution_count": null,
      "outputs": []
    },
    {
      "cell_type": "code",
      "source": [
        "grup = pd.read_csv(enc_path)"
      ],
      "metadata": {
        "id": "Yro61ySZMRdC"
      },
      "execution_count": null,
      "outputs": []
    },
    {
      "cell_type": "code",
      "source": [
        "grup = grup[ABC_TF]"
      ],
      "metadata": {
        "id": "tOpZTYIMMSiv"
      },
      "execution_count": null,
      "outputs": []
    },
    {
      "cell_type": "code",
      "source": [
        "g_size = 3\n",
        "est_size = len(grup)"
      ],
      "metadata": {
        "id": "5rrG3sTeEWfp"
      },
      "execution_count": null,
      "outputs": []
    },
    {
      "cell_type": "code",
      "source": [
        "clust_g = ['CL Conocimientos', 'CL Gustos']\n",
        "dist_grup = grup[clust_g].value_counts().reset_index()\n",
        "estudiantes = grup['Nombre']"
      ],
      "metadata": {
        "id": "TZWXXv4nEX5N"
      },
      "execution_count": null,
      "outputs": []
    },
    {
      "cell_type": "code",
      "source": [
        "con_size = len(grup['CL Conocimientos'].unique())\n",
        "n_grupos = ceil(est_size/g_size)\n",
        "\n",
        "Grupos = {i:[] for i in range(n_grupos)}\n",
        "grup_c = grup.copy()\n",
        "\n",
        "n_g = 0\n",
        "\n",
        "#Grupos ideales\n",
        "for i in range(con_size):\n",
        "  agg_grup = dist_grup.iloc[i*con_size:(i+1)*con_size,]\n",
        "  grupos_justos = min(agg_grup[0])\n",
        "  for veces in range(grupos_justos):\n",
        "    # Siempre se hará un número de veces igual al número de clusters de gustos distintos (3)\n",
        "    for con, gts in agg_grup.drop(columns = [0]).values:\n",
        "      estudiantes = grup_c[(grup_c['CL Conocimientos']== con)&(grup_c['CL Gustos']== gts)]\n",
        "      estudiantes = estudiantes.sample(1)\n",
        "      grup_c.drop(estudiantes.index, inplace = True)\n",
        "      Grupos[n_g].append(list(estudiantes[['Nombre','Correo electrónico']].values[0]))\n",
        "    n_g +=1\n",
        "\n",
        "extras = grup_c[clust_g].value_counts().reset_index()\n",
        "grupos_ext = extras[extras[0]>=g_size]\n",
        "\n",
        "#Grupos imperfectos agruados por los gustos\n",
        "\n",
        "for con, gts, n_gp in grupos_ext.values:\n",
        "  # Siempre se hará un número de veces igual al número de clusters de gustos distintos (3)\n",
        "\n",
        "  estudiantes = grup_c[(grup_c['CL Conocimientos']== con)&(grup_c['CL Gustos']== gts)]\n",
        "\n",
        "  for n_aas in range(int(n_gp/g_size)):\n",
        "    estudiantes_ = estudiantes.sample((n_aas+1)*g_size)\n",
        "\n",
        "    grup_c.drop(estudiantes_.index, inplace = True)\n",
        "    Grupos[n_g] = [[n,c]for n, c in estudiantes_[['Nombre',\t'Correo electrónico']].values]\n",
        "    n_g +=1\n",
        "  \n",
        "# Grupos de los que \"no encajaron\"\n",
        "\n",
        "for n_aas in range(ceil(grup_c.shape[0]/g_size)):\n",
        "  estudiantes_ = grup_c.sample(min(grup_c.shape[0],g_size))\n",
        "  grup_c.drop(estudiantes_.index, inplace = True)\n",
        "  Grupos[n_g] = [[n,c]for n, c in estudiantes_[['Nombre',\t'Correo electrónico']].values]\n",
        "  n_g +=1"
      ],
      "metadata": {
        "id": "iIK9lx9nPEIV"
      },
      "execution_count": null,
      "outputs": []
    },
    {
      "cell_type": "code",
      "source": [
        "grupos_ord = []\n",
        "for nom in grup['Nombre']:\n",
        "  grupos_ord.append([Grupos[g] for g in Grupos.keys() if any([nom == l[0] for l in Grupos[g]])][0])\n",
        "\n",
        "grup['Grupo'] = grupos_ord"
      ],
      "metadata": {
        "colab": {
          "base_uri": "https://localhost:8080/"
        },
        "id": "YntKbb5vZGxU",
        "outputId": "9001dbbb-7de6-4995-b25c-edae2197efc2"
      },
      "execution_count": null,
      "outputs": [
        {
          "output_type": "stream",
          "name": "stderr",
          "text": [
            "/usr/local/lib/python3.7/dist-packages/ipykernel_launcher.py:5: SettingWithCopyWarning: \n",
            "A value is trying to be set on a copy of a slice from a DataFrame.\n",
            "Try using .loc[row_indexer,col_indexer] = value instead\n",
            "\n",
            "See the caveats in the documentation: https://pandas.pydata.org/pandas-docs/stable/user_guide/indexing.html#returning-a-view-versus-a-copy\n",
            "  \"\"\"\n"
          ]
        }
      ]
    },
    {
      "cell_type": "code",
      "source": [
        "grup.to_csv('Resultados Encuesta.csv', index = False, encoding='utf-8-sig')\n",
        "files.download('Resultados Encuesta.csv') "
      ],
      "metadata": {
        "colab": {
          "base_uri": "https://localhost:8080/",
          "height": 17
        },
        "id": "jNiAGjtHQh5d",
        "outputId": "75e89ed7-b1f5-482e-ca9d-0bba3db6374d"
      },
      "execution_count": null,
      "outputs": [
        {
          "output_type": "display_data",
          "data": {
            "text/plain": [
              "<IPython.core.display.Javascript object>"
            ],
            "application/javascript": [
              "\n",
              "    async function download(id, filename, size) {\n",
              "      if (!google.colab.kernel.accessAllowed) {\n",
              "        return;\n",
              "      }\n",
              "      const div = document.createElement('div');\n",
              "      const label = document.createElement('label');\n",
              "      label.textContent = `Downloading \"${filename}\": `;\n",
              "      div.appendChild(label);\n",
              "      const progress = document.createElement('progress');\n",
              "      progress.max = size;\n",
              "      div.appendChild(progress);\n",
              "      document.body.appendChild(div);\n",
              "\n",
              "      const buffers = [];\n",
              "      let downloaded = 0;\n",
              "\n",
              "      const channel = await google.colab.kernel.comms.open(id);\n",
              "      // Send a message to notify the kernel that we're ready.\n",
              "      channel.send({})\n",
              "\n",
              "      for await (const message of channel.messages) {\n",
              "        // Send a message to notify the kernel that we're ready.\n",
              "        channel.send({})\n",
              "        if (message.buffers) {\n",
              "          for (const buffer of message.buffers) {\n",
              "            buffers.push(buffer);\n",
              "            downloaded += buffer.byteLength;\n",
              "            progress.value = downloaded;\n",
              "          }\n",
              "        }\n",
              "      }\n",
              "      const blob = new Blob(buffers, {type: 'application/binary'});\n",
              "      const a = document.createElement('a');\n",
              "      a.href = window.URL.createObjectURL(blob);\n",
              "      a.download = filename;\n",
              "      div.appendChild(a);\n",
              "      a.click();\n",
              "      div.remove();\n",
              "    }\n",
              "  "
            ]
          },
          "metadata": {}
        },
        {
          "output_type": "display_data",
          "data": {
            "text/plain": [
              "<IPython.core.display.Javascript object>"
            ],
            "application/javascript": [
              "download(\"download_f28d64d0-bff2-41bd-8c92-37c811c6c37b\", \"Resultados Encuesta.csv\", 14091)"
            ]
          },
          "metadata": {}
        }
      ]
    },
    {
      "cell_type": "code",
      "source": [
        ""
      ],
      "metadata": {
        "id": "hVvSYwPgMw10"
      },
      "execution_count": null,
      "outputs": []
    }
  ]
}